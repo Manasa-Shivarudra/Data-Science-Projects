{
 "cells": [
  {
   "cell_type": "code",
   "execution_count": 1,
   "id": "a127147e",
   "metadata": {},
   "outputs": [],
   "source": [
    "import re\n",
    "import random"
   ]
  },
  {
   "cell_type": "code",
   "execution_count": 3,
   "id": "97ade73b",
   "metadata": {},
   "outputs": [
    {
     "name": "stdout",
     "output_type": "stream",
     "text": [
      "What is your name?\n",
      "M\n",
      "Hi M, I am a Rule-Bot. Will you help me learn about your planet?\n",
      "No\n",
      "Is there intelligent life on this planet? go\n",
      "Please tell me more\n",
      "why\n",
      "I see. Can you elaborate?\n",
      "Data Science\n",
      "field encompasses preparing data for analysis, formulating data science problems, analyzing data, developing data-driven solutions, and presenting findings to inform high-level decisions in a broad range of application domains.hmmm\n",
      "I see. How do you think?\n",
      "why\n",
      "I see. Can you elaborate?\n",
      "exit\n",
      "Ok, have a nice earth day!\n"
     ]
    }
   ],
   "source": [
    "class RuleBot:\n",
    "    ## list of potential negative responses\n",
    "    negative_responses = (\"no\", \"nope\", \"nah\", \"naw\", \"not a chance\", \"sorry\")\n",
    "    \n",
    "    ## Exit conversation keywords\n",
    "    exit_commands= (\"quit\", \"pause\", \"exit\", \"goodbye\", \"bye\", \"later\")\n",
    "    \n",
    "    ## Random starter questions\n",
    "    random_questions = (\n",
    "        \"Why are you here? \",\n",
    "        \"Are there any humans like you? \",\n",
    "        \"what do you consume for sustenance? \",\n",
    "        \"Is there intelligent life on this planet? \",\n",
    "        \"Does Earth have a leader? \",\n",
    "        \"What planets have you visited? \",\n",
    "        \"what technology do you have on this planet? \"\n",
    "    )\n",
    "    \n",
    "    def __init__(self):\n",
    "        ## 3 intents\n",
    "        self.alienbabble= {'describe_planet_intent':r'.*\\s*your planet.*', ## Any string that Ends with your planet\n",
    "                          'answer_why_intent':r'why\\share.*', ## Any string user will provide having keyword Why\n",
    "                          'about_data_science':r'.*\\s*Data Science'} ## Any string user will provide having keyword intellipat\n",
    "        \n",
    "    def greet(self):\n",
    "        self.name = input(\"What is your name?\\n\")\n",
    "        will_help= input(f\"Hi {self.name}, I am a Rule-Bot. Will you help me learn about your planet?\\n\")\n",
    "        if will_help in self.negative_responses:\n",
    "            print(\"Ok, have a nice earth day!\")\n",
    "            return\n",
    "        self.chat()\n",
    "        \n",
    "    def make_exit(self,reply):\n",
    "        for command in self.exit_commands:\n",
    "            if reply == command:\n",
    "                print(\"Ok, have a nice earth day!\")\n",
    "                return True\n",
    "        \n",
    "    def chat(self):\n",
    "        reply = input(random.choice(self.random_questions)).lower()\n",
    "        while not self.make_exit(reply):\n",
    "            reply = input(self.match_reply(reply))\n",
    "            \n",
    "    def match_reply(self, reply):\n",
    "        for key, value in self.alienbabble.items():\n",
    "            intent = key\n",
    "            regex_pattern = value\n",
    "            found_match = re.match(regex_pattern,reply)\n",
    "            if found_match and intent == \"describe_planet_intent\":\n",
    "                return self.describe_planet_intent()\n",
    "            elif found_match and intent == \"answer_why_intent\":\n",
    "                return self.answer_why_intent()\n",
    "            elif found_match and intent == \"about_data_science\":\n",
    "                return self.about_data_science()\n",
    "        if not found_match:\n",
    "            return self.no_match_intent()\n",
    "        \n",
    "    def describe_planet_intent(self):\n",
    "        responses = (\"My planet is a utopia of diverse organisms and species.\\n\",\n",
    "                    \"I am from opidipus, the capital of Wayward galaxies.\\n\")\n",
    "        return random.choice(responses)\n",
    "    \n",
    "    def answer_why_intent(self):\n",
    "        responses = (\"I come in peace\\n\", \"I am here to collect data on your planet and its inhabitants\\n\",\n",
    "                    \"I heard the coffee is good\\n\")\n",
    "        return random.choice(responses)\n",
    "    \n",
    "    def about_data_science(self):\n",
    "        responses = (\"Data science is an interdisciplinary academic field that uses statistics, scientific computing, scientific methods, processes, algorithms and systems to extract or extrapolate knowledge and insights from noisy, structured, and unstructured data.\",\n",
    "                    \"Data science is a 'concept to unify statistics, data analysis, informatics, and their related methods' in order to 'understand and analyse actual phenomena' with data.\",\n",
    "                    \"Data Science field encompasses preparing data for analysis, formulating data science problems, analyzing data, developing data-driven solutions, and presenting findings to inform high-level decisions in a broad range of application domains.\")\n",
    "        return random.choice(responses)\n",
    "    \n",
    "    def no_match_intent(self):\n",
    "        responses = (\"Please tell me more\\n\", \"Tell me more!\\n\", \"Why do you say that?\\n\", \"I see. Can you elaborate?\\n\",\n",
    "                    \"Interesting. Can you tell me more?\\n\", \"I see. How do you think?\\n\", \"Why?\\n\",\n",
    "                    \"How do you think I feel when you say that?\\n\"\n",
    "                    )\n",
    "        return random.choice(responses)\n",
    "    \n",
    "\n",
    "AlienBot = RuleBot()\n",
    "AlienBot.greet()"
   ]
  },
  {
   "cell_type": "markdown",
   "id": "4384fdf4",
   "metadata": {},
   "source": [
    "### Retreival Based Chat Bot that is Intelligent Chatbot\n",
    "Steps involved in building a chatbot using python and nltk\n",
    "\n",
    "1. Read text corpus\n",
    "2. Preprocessing(stop words removal, Lowercase conversions etc)\n",
    "3. Tokenization, Stemming and Lemmatization\n",
    "4. Bag of words\n",
    "5. One hot encoding\n",
    "\n",
    "Tokenization : Convert the sentecnces into individual words \n",
    "\n",
    "Stemming: The process of similarities between words with the same root Ex: Root of the word leafs is leaf\n",
    "\n",
    "Lemmatization: Convert different variations of words into single word EX: Leafs, leaves can be converted to leaf\n",
    "\n",
    "Bag of words: Process of converting words into numbers by generating vector embeddings from the tokens generated."
   ]
  },
  {
   "cell_type": "code",
   "execution_count": 4,
   "id": "20c4b600",
   "metadata": {},
   "outputs": [],
   "source": [
    "import numpy as np\n",
    "import nltk\n",
    "import string\n",
    "import random"
   ]
  },
  {
   "cell_type": "markdown",
   "id": "60510d01",
   "metadata": {},
   "source": [
    "#### Reading the corpus of text"
   ]
  },
  {
   "cell_type": "code",
   "execution_count": 5,
   "id": "6f7fd7bc",
   "metadata": {},
   "outputs": [],
   "source": [
    "f = open('data.txt','r', errors = 'ignore')\n",
    "raw_doc = f.read()"
   ]
  },
  {
   "cell_type": "code",
   "execution_count": 6,
   "id": "76ce5afa",
   "metadata": {},
   "outputs": [
    {
     "name": "stderr",
     "output_type": "stream",
     "text": [
      "[nltk_data] Downloading package punkt to\n",
      "[nltk_data]     C:\\Users\\manas\\AppData\\Roaming\\nltk_data...\n",
      "[nltk_data]   Package punkt is already up-to-date!\n",
      "[nltk_data] Downloading package wordnet to\n",
      "[nltk_data]     C:\\Users\\manas\\AppData\\Roaming\\nltk_data...\n",
      "[nltk_data]   Package wordnet is already up-to-date!\n",
      "[nltk_data] Downloading package omw-1.4 to\n",
      "[nltk_data]     C:\\Users\\manas\\AppData\\Roaming\\nltk_data...\n",
      "[nltk_data]   Package omw-1.4 is already up-to-date!\n"
     ]
    }
   ],
   "source": [
    "raw_doc = raw_doc.lower()\n",
    "nltk.download('punkt')\n",
    "nltk.download('wordnet')\n",
    "nltk.download('omw-1.4')\n",
    "sentence_tokens = nltk.sent_tokenize(raw_doc)\n",
    "word_tokens = nltk.word_tokenize(raw_doc)"
   ]
  },
  {
   "cell_type": "code",
   "execution_count": 7,
   "id": "74ab921a",
   "metadata": {},
   "outputs": [
    {
     "data": {
      "text/plain": [
       "'jump to content\\ntoggle sidebar\\n\\nwikipediathe free encyclopedia\\nsearch wikipedia\\ncreate account\\nlog in\\n\\npersonal tools\\nphotograph your local culture, help wikipedia and win!hide\\ncontents hide\\n(top)\\nbackground\\ndevelopment\\napplication\\ntoggle application subsection\\nmessaging apps\\nas part of company apps and websites\\nchatbot sequences\\ncompany internal platforms\\ncustomer service\\nhealthcare\\npolitics\\ntoys\\nmalicious use\\nlimitations of chatbots\\nchatbots and jobs\\nsee also\\nreferences\\nfurther reading\\nexternal links\\nchatbot\\n\\narticle\\ntalk\\nread\\nview source\\nview history\\npage semi-protected\\nfrom wikipedia, the free encyclopedia\\nfor other uses, see chatbot (disambiguation).\\n\\nparts of this article (those related to everything) need to be updated. the reason given is: this article is using citations from 1970 and virtually all claims about conversational capabilities are at least ten years out of date (for example the turing test was arguably made obsolete years ago by transformer models). please help update this article to reflect recent events or newly available information. (february 2023)\\n\\na virtual assistant chatbot\\n\\nthe 1966 eliza chatbot\\na chatbot or chatterbot is a software application used to conduct an online chat conversation via text or text-to-speech, in lieu of providing direct contact with a live human agent.[1][2] chatbots are computer programs that are capable of maintaining a conversation with a user in natural language, understanding their intent, and replying based on preset rules and data. designed to convincingly simulate the way a human would behave as a conversational partner, chatbot systems typically require continuous tuning and testing with many in production unable to adequately converse; in 2012 none of them could pass the standard turing test.[3] the term \"chatterbot\" was originally coined by michael mauldin (creator of the first verbot) in 1994 to describe these conversational programs.[4]\\n\\nchatbots are used in dialog systems for various purposes including customer service, request routing, or information gathering. while some chatbot applications use extensive word-classification processes, natural-language processors, and sophisticated ai, others simply scan for general keywords and generate responses using common phrases obtained from an associated library or database.\\n\\nmost chatbots are accessed on-line via website popups or through virtual assistants. they can be classified into usage categories that include: commerce (e-commerce via chat), education, entertainment, finance, health, news, and productivity.[5]\\n\\nbackground\\nin 1950, alan turing\\'s famous article \"computing machinery and intelligence\" was published,[6] which proposed what is now called the turing test as a criterion of intelligence. this criterion depends on the ability of a computer program to impersonate a human in a real-time written conversation with a human judge to the extent that the judge is unable to distinguish reliablyâ€”on the basis of the conversational content aloneâ€”between the program and a real human. the notoriety of turing\\'s proposed test stimulated great interest in joseph weizenbaum\\'s program eliza, published in 1966, which seemed to be able to fool users into believing that they were conversing with a real human. however weizenbaum himself did not claim that eliza was genuinely intelligent, and the introduction to his paper presented it more as a debunking exercise:\\n\\n[in] artificial intelligence ... machines are made to behave in wondrous ways, often sufficient to dazzle even the most experienced observer. but once a particular program is unmasked, once its inner workings are explained ... its magic crumbles away; it stands revealed as a mere collection of procedures ... the observer says to himself \"i could have written that\". with that thought, he moves the program in question from the shelf marked \"intelligent\", to that reserved for curios ... the object of this paper is to cause just such a re-evaluation of the program about to be \"explained\". few programs ever needed it more.[7]\\n\\neliza\\'s key method of operation (copied by chatbot designers ever since) involves the recognition of clue words or phrases in the input, and the output of the corresponding pre-prepared or pre-programmed responses that can move the conversation forward in an apparently meaningful way (e.g. by responding to any input that contains the word \\'mother\\' with \\'tell me more about your family\\').[7] thus an illusion of understanding is generated, even though the processing involved has been merely superficial. eliza showed that such an illusion is surprisingly easy to generate because human judges are so ready to give the benefit of the doubt when conversational responses are capable of being interpreted as \"intelligent\".\\n\\ninterface designers have come to appreciate that humans\\' readiness to interpret computer output as genuinely conversationalâ€”even when it is actually based on rather simple pattern-matchingâ€”can be exploited for useful purposes. most people prefer to engage with programs that are human-like, and this gives chatbot-style techniques a potentially useful role in interactive systems that need to elicit information from users, as long as that information is relatively straightforward and falls into predictable categories. thus, for example, online help systems can usefully employ chatbot techniques to identify the area of help that users require, potentially providing a \"friendlier\" interface than a more formal search or menu system. this sort of usage holds the prospect of moving chatbot technology from weizenbaum\\'s \"shelf ... reserved for curios\" to that marked \"genuinely useful computational methods\".\\n\\ndevelopment\\namong the most notable early chatbots are eliza (1966) and parry (1972).[8][9][10][11] more recent notable programs include a.l.i.c.e., jabberwacky and d.u.d.e (agence nationale de la recherche and cnrs 2006). while eliza and parry were used exclusively to simulate typed conversation, many chatbots now include other functional features, such as games and web searching abilities. in 1984, a book called the policeman\\'s beard is half constructed was published, allegedly written by the chatbot racter (though the program as released would not have been capable of doing so).[12]\\n\\none pertinent field of ai research is natural-language processing. usually, weak ai fields employ specialized software or programming languages created specifically for the narrow function required. for example, a.l.i.c.e. uses a markup language called aiml,[2] which is specific to its function as a conversational agent, and has since been adopted by various other developers of, so-called, alicebots. nevertheless, a.l.i.c.e. is still purely based on pattern matching techniques without any reasoning capabilities, the same technique eliza was using back in 1966. this is not strong ai, which would require sapience and logical reasoning abilities.\\n\\njabberwacky learns new responses and context based on real-time user interactions, rather than being driven from a static database. some more recent chatbots also combine real-time learning with evolutionary algorithms that optimize their ability to communicate based on each conversation held. still, there is currently no general purpose conversational artificial intelligence, and some software developers focus on the practical aspect, information retrieval.\\n\\nchatbot competitions focus on the turing test or more specific goals. two such annual contests are the loebner prize and the chatterbox challenge (the latter has been offline since 2015, however, materials can still be found from web archives).[13]\\n\\nchatbots may use the generative pre-trained transformer (gpt) language model. it uses the transformer machine learning model. the \"pre-training\" in its name refers to the initial training process on a large text corpus, which provides a solid foundation for the model to perform well on downstream tasks with limited amounts of task-specific data. an example of a gpt chatbot is chatgpt. despite criticism of its accuracy, chatgpt has gained attention for its detailed responses and historical knowledge. another example is biogpt, developed by microsoft, which focuses on answering biomedical questions.[14][15]\\n\\ndbpedia created a chatbot during the gsoc of 2017.[16][17][18] it can communicate through facebook messenger.\\n\\napplication\\nsee also: virtual assistant\\nmessaging apps\\nmany companies\\' chatbots run on messaging apps or simply via sms. they are used for b2c customer service, sales and marketing.[19]\\n\\nin 2016, facebook messenger allowed developers to place chatbots on their platform. there were 30,000 bots created for messenger in the first six months, rising to 100,000 by september 2017.[20]\\n\\nsince september 2017, this has also been as part of a pilot program on whatsapp. airlines klm and aeromã©xico both announced their participation in the testing;[21][22][23][24] both airlines had previously launched customer services on the facebook messenger platform.\\n\\nthe bots usually appear as one of the user\\'s contacts, but can sometimes act as participants in a group chat.\\n\\nmany banks, insurers, media companies, e-commerce companies, airlines, hotel chains, retailers, health care providers, government entities and restaurant chains have used chatbots to answer simple questions, increase customer engagement,[25] for promotion, and to offer additional ways to order from them.[26]\\n\\na 2017 study showed 4% of companies used chatbots.[27] according to a 2016 study, 80% of businesses said they intended to have one by 2020.[28]\\n\\nas part of company apps and websites\\nprevious generations of chatbots were present on company websites, e.g. ask jenn from alaska airlines which debuted in 2008[29] or expedia\\'s virtual customer service agent which launched in 2011.[29][30] the newer generation of chatbots includes ibm watson-powered \"rocky\", introduced in february 2017 by the new york city-based e-commerce company rare carat to provide information to prospective diamond buyers.[31][32]\\n\\nchatbot sequences\\nused by marketers to script sequences of messages, very similar to an autoresponder sequence. such sequences can be triggered by user opt-in or the use of keywords within user interactions. after a trigger occurs a sequence of messages is delivered until the next anticipated user response. each user response is used in the decision tree to help the chatbot navigate the response sequences to deliver the correct response message.\\n\\ncompany internal platforms\\nother companies explore ways they can use chatbots internally, for example for customer support, human resources, or even in internet-of-things (iot) projects. overstock.com, for one, has reportedly launched a chatbot named mila to automate certain simple yet time-consuming processes when requesting sick leave.[33] other large companies such as lloyds banking group, royal bank of scotland, renault and citroã«n are now using automated online assistants instead of call centres with humans to provide a first point of contact. a saas chatbot business ecosystem has been steadily growing since the f8 conference when facebook\\'s mark zuckerberg unveiled that messenger would allow chatbots into the app.[34] in large companies, like in hospitals and aviation organizations, it architects are designing reference architectures for intelligent chatbots that are used to unlock and share knowledge and experience in the organization more efficiently, and reduce the errors in answers from expert service desks significantly.[35] these intelligent chatbots make use of all kinds of artificial intelligence like image moderation and natural-language understanding (nlu), natural-language generation (nlg), machine learning and deep learning.\\n\\ncustomer service\\nmany high-tech banking organizations are looking to integrate automated ai-based solutions such as chatbots into their customer service in order to provide faster and cheaper assistance to their clients who are becoming increasingly comfortable with technology. in particular, chatbots can efficiently conduct a dialogue, usually replacing other communication tools such as email, phone, or sms. in banking, their major application is related to quick customer service answering common requests, as well as transactional support.\\n\\nseveral studies report significant reduction in the cost of customer services, expected to lead to billions of dollars of economic savings in the next ten years.[36] in 2019, gartner predicted that by 2021, 15% of all customer service interactions globally will be handled completely by ai.[37] a study by juniper research in 2019 estimates retail sales resulting from chatbot-based interactions will reach $112 billion by 2023.[38]\\n\\nsince 2016, when facebook allowed businesses to deliver automated customer support, e-commerce guidance, content, and interactive experiences through chatbots, a large variety of chatbots were developed for the facebook messenger platform.[39]\\n\\nin 2016, russia-based tochka bank launched the world\\'s first facebook bot for a range of financial services, including a possibility of making payments.[40]\\n\\nin july 2016, barclays africa also launched a facebook chatbot, making it the first bank to do so in africa.[41]\\n\\nthe france\\'s third-largest bank by total assets[42] sociã©tã© gã©nã©rale launched their chatbot called sobot in march 2018. while 80% of users of the sobot expressed their satisfaction after having tested it, sociã©tã© gã©nã©rale deputy director bertrand cozzarolo stated that it will never replace the expertise provided by a human advisor. [43]\\n\\nthe advantages of using chatbots for customer interactions in banking include cost reduction, financial advice, and 24/7 support.[44][45]\\n\\nhealthcare\\nsee also: artificial intelligence in healthcare\\nchatbots are also appearing in the healthcare industry.[46][47] a study suggested that physicians in the united states believed that chatbots would be most beneficial for scheduling doctor appointments, locating health clinics, or providing medication information.[48]\\n\\nwhatsapp has teamed up with the world health organisation (who) to make a chatbot service that answers usersâ€™ questions on covid-19.[49]\\n\\nin 2020, the indian government launched a chatbot called mygov corona helpdesk,[50] that worked through whatsapp and helped people access information about the coronavirus (covid-19) pandemic.[51][52]\\n\\ncertain patient groups are still reluctant to use chatbots. a mixed-methods study showed that people are still hesitant to use chatbots for their healthcare due to poor understanding of the technological complexity, the lack of empathy, and concerns about cyber-security.[53] the analysis showed that while 6% had heard of a health chatbot and 3% had experience of using it, 67% perceived themselves as likely to use one within 12 months. the majority of participants would use a health chatbot for seeking general health information (78%), booking a medical appointment (78%), and looking for local health services (80%). however, a health chatbot was perceived as less suitable for seeking results of medical tests and seeking specialist advice such as sexual health. the analysis of attitudinal variables showed that most participants reported their preference for discussing their health with doctors (73%) and having access to reliable and accurate health information (93%). while 80% were curious about new technologies that could improve their health, 66% reported only seeking a doctor when experiencing a health problem and 65% thought that a chatbot was a good idea. interestingly, 30% reported dislike about talking to computers, 41% felt it would be strange to discuss health matters with a chatbot and about half were unsure if they could trust the advice given by a chatbot. therefore, perceived trustworthiness, individual attitudes towards bots, and dislike for talking to computers are the main barriers to health chatbots.\\n\\npolitics\\nsee also: government by algorithm â§ ai politicians\\nin new zealand, the chatbot sam â€“ short for semantic analysis machine[54] (made by nick gerritsen of touchtech[55]) â€“ has been developed. it is designed to share its political thoughts, for example on topics such as climate change, healthcare and education, etc. it talks to people through facebook messenger.[56][57][58][59]\\n\\nin 2022, the chatbot \"leader lars\" or \"leder lars\" was nominated for the synthetic party to run in the danish parliamentary election,[60] and was built by the artist collective computer lars.[61] leader lars differed from earlier virtual politicians by leading a political party and by not pretending to be an objective candidate.[62] this chatbot engaged in critical discussions on politics with users from around the world.[63]\\n\\nin india, the state government has launched a chatbot for its aaple sarkar platform,[64] which provides conversational access to information regarding public services managed.[65][66]\\n\\ntoys\\nchatbots have also been incorporated into devices not primarily meant for computing, such as toys.[67]\\n\\nhello barbie is an internet-connected version of the doll that uses a chatbot provided by the company toytalk,[68] which previously used the chatbot for a range of smartphone-based characters for children.[69] these characters\\' behaviors are constrained by a set of rules that in effect emulate a particular character and produce a storyline.[70]\\n\\nthe my friend cayla doll was marketed as a line of 18-inch (46 cm) dolls which uses speech recognition technology in conjunction with an android or ios mobile app to recognize the child\\'s speech and have a conversation. it, like the hello barbie doll, attracted controversy due to vulnerabilities with the doll\\'s bluetooth stack and its use of data collected from the child\\'s speech.\\n\\nibm\\'s watson computer has been used as the basis for chatbot-based educational toys for companies such as cognitoys[67] intended to interact with children for educational purposes.[71]\\n\\nmalicious use\\nmalicious chatbots are frequently used to fill chat rooms with spam and advertisements, by mimicking human behavior and conversations or to entice people into revealing personal information, such as bank account numbers. they were commonly found on yahoo! messenger, windows live messenger, aol instant messenger and other instant messaging protocols. there has also been a published report of a chatbot used in a fake personal ad on a dating service\\'s website.[72]\\n\\ntay, an ai chatbot that learns from previous interaction, caused major controversy due to it being targeted by internet trolls on twitter. the bot was exploited, and after 16 hours began to send extremely offensive tweets to users. this suggests that although the bot learned effectively from experience, adequate protection was not put in place to prevent misuse.[73]\\n\\nif a text-sending algorithm can pass itself off as a human instead of a chatbot, its message would be more credible. therefore, human-seeming chatbots with well-crafted online identities could start scattering fake news that seems plausible, for instance making false claims during an election. with enough chatbots, it might be even possible to achieve artificial social proof.[74][75]\\n\\nlimitations of chatbots\\nthe creation and implementation of chatbots is still a developing area, heavily related to artificial intelligence and machine learning, so the provided solutions, while possessing obvious advantages, have some important limitations in terms of functionalities and use cases. however, this is changing over time.\\n\\nthe most common limitations are listed below:[76]\\n\\nas the input/output database is fixed and limited, chatbots can fail while dealing with an unsaved query.[45]\\na chatbot\\'s efficiency highly depends on language processing and is limited because of irregularities, such as accents and mistakes.\\nchatbots are unable to deal with multiple questions at the same time and so conversation opportunities are limited.[76]\\nchatbots require a large amount of conversational data to train. generative models, which are based on deep learning algorithms to generate new responses word by word based on user input, are usually trained on a large dataset of natural-language phrases.[2]\\nchatbots have difficulty managing non-linear conversations that must go back and forth on a topic with a user.[77]\\nas it happens usually with technology-led changes in existing services, some consumers, more often than not from older generations, are uncomfortable with chatbots due to their limited understanding, making it obvious that their requests are being dealt with by machines.[76]\\nchatbots and jobs\\nchatbots are increasingly present in businesses and often are used to automate tasks that do not require skill-based talents. with customer service taking place via messaging apps as well as phone calls, there are growing numbers of use-cases where chatbot deployment gives organizations a clear return on investment. call center workers may be particularly at risk from ai-driven chatbots.[78]\\n\\nchatbot jobs\\n\\nchatbot developers create, debug, and maintain applications that automate customer services or other communication processes. their duties include reviewing and simplifying code when needed. they may also help companies implement bots in their operations.\\n\\na study by forrester (june 2017) predicted that 25% of all jobs would be impacted by ai technologies by 2019.[79]\\n\\nsee also\\nicon\\tlinguistics portal\\napplications of artificial intelligence\\nartificial philosophy\\nautonomous agent\\nchatgpt (from openai)\\nconversational user interface\\neugene goostman\\nfriendly artificial intelligence\\nhybrid intelligent system\\nintelligent agent\\ninternet bot\\nlist of chatbots\\nmulti-agent system\\nnatural language processing\\nsocial bot\\nsoftware agent\\nsoftware bot\\ntwitterbot\\nreferences\\n \"what is a chatbot?\". techtarget.com. retrieved 30 january 2017.\\n caldarini, guendalina; jaf, sardar; mcgarry, kenneth (2022). \"a literature survey of recent advances in chatbots\". information. mdpi. 13 (1): 41. doi:10.3390/info13010041.\\n bradeå¡ko, luka; mladeniä‡, dunja (october 2012). a survey of chabot systems through a loebner prize competition. vol. 2. proceedings of slovenian language technologies society eighth conference of language technologies. pp. 34â€“37. s2cid 39745939.\\n mauldin, michael (1994), \"chatterbots, tinymuds, and the turing test: entering the loebner prize competition\", proceedings of the eleventh national conference on artificial intelligence, aaai press, retrieved 5 march 2008\\n \"2017 messenger bot landscape, a public spreadsheet gathering 1000+ messenger bots\". 3 may 2017.\\n turing, alan (1950), \"computing machinery and intelligence\", mind, 59 (236): 433â€“60, doi:10.1093/mind/lix.236.433\\n weizenbaum, joseph (january 1966), \"elizaâ€”a computer program for the study of natural language communication between man and machine\", communications of the acm, 9 (1): 36â€“45, doi:10.1145/365153.365168, s2cid 1896290\\n gã¼zeldere, gã¼ven; franchi, stefano (24 july 1995), \"constructions of the mind\", stanford humanities review, sehr, stanford university, 4 (2), retrieved 5 march 2008\\n computer history museum (2006), \"internet historyâ€”1970\\'s\", exhibits, computer history museum, archived from the original on 21 february 2008, retrieved 5 march 2008\\n sondheim, alan j (1997), <nettime> important documents from the early internet (1972), nettime.org, archived from the original on 13 june 2008, retrieved 5 march 2008\\n network working group (1973), \"rfc 439, parry encounters the doctor\", internet engineering task force, internet society, doi:10.17487/rfc0439, retrieved 5 march 2008â€”transcript of a session between parry and eliza. (this is not the dialogue from the iccc, which took place 24â€“26 october 1972, whereas this session is from 18 september 1972.)\\n the policeman\\'s beard is half constructed. everything2.com. 13 november 1999\\n \"chatroboter simulieren menschen\".\\n luo, renqian; sun, liai; xia, yingce; qin, tao; zhang, sheng; poon, hoifung; liu, tie-yan; et al. (2022). \"biogpt: generative pre-trained transformer for biomedical text generation and mining\". brief bioinform. 23 (6). doi:10.1093/bib/bbac409. pmid 36156661.\\n bastian, matthias (29 january 2023). \"biogpt is a microsoft language model trained for biomedical tasks\". the decoder.\\n \"dbpedia chatbot\". chat.dbpedia.org.\\n \"meet the dbpedia chatbot | dbpedia\". wiki.dbpedia.org. 22 august 2018.\\n \"meet the dbpedia chatbot\". dbpedia.org. 22 august 2018.\\n beaver, laurie (july 2016). the chatbots explainer. bi intelligence.\\n \"facebook messenger hits 100,000 bots\". 18 april 2017. retrieved 22 september 2017.\\n \"klm claims airline first with whatsapp business platform\". www.phocuswire.com.\\n forbes staff (26 october 2017). \"aeromã©xico te atenderã¡ por whatsapp durante 2018\". retrieved 2 july 2018.\\n \"podrã¡s hacer \\'check in\\' y consultar tu vuelo con aeromã©xico a travã©s de whatsapp\". huffington post. 27 october 2017. archived from the original on 10 march 2018. retrieved 2 july 2018.\\n \"building for people, and now businesses\". whatsapp.com. retrieved 2 july 2018.\\n \"she is the company\\'s most effective employee\". nordea news. september 2017.\\n \"better believe the bot boom is blowing up big for b2b, b2c businesses\". venturebeat. 24 july 2016.\\n capan, faruk (18 october 2017). \"the ai revolution is underway! â€“ pm360\". www.pm360online.com.\\n \"80% of businesses want chatbots by 2020\". business insider. 15 december 2016.\\n \"a virtual travel agent with all the answers\". the new york times. 4 march 2008.\\n \"chatbot vendor directory released\". www.hypergridbusiness.com. october 2011.\\n \"rare carat\\'s watson-powered chatbot will help you put a diamond ring on it\". techcrunch. 15 february 2017.\\n \"10 ways you may have already used ibm watson\". venturebeat. 10 march 2017.\\n greenfield, rebecca (5 may 2016). \"chatbots are your newest, dumbest co-workers\". bloomberg.com.\\n \"facebook opens its messenger platform to chatbots\". 12 april 2016.\\n \"chatbot reference architecture\". 1 january 2019.\\n hingrajia, mirant. \"how chatbots are transforming wall street and main street banks?\". marutitech.\\n \"how to manage customer service technology innovation\". www.gartner.com. archived from the original on 11 december 2019. retrieved 2 january 2020.\\n smith, sam (8 may 2019). \"chatbot interactions in retail to reach 22 billion by 2023, as ai offers compelling new engagement solutions\". juniper research. retrieved 2 january 2020.\\n \"facebook launches messenger platform with chatbots\". techcrunch. 12 april 2016.\\n \"ð\\xa0ð¾ññð¸ð¹ñðºð¸ð¹ ð±ð°ð½ðº ð·ð°ð¿ñƒññ‚ð¸ð» ñ‡ð°ñ‚-ð±ð¾ñ‚ð° ð² facebook\". vedomosti.ru. 13 july 2016.\\n \"absa launches \\'world-first\\' facebook messenger banking\". 19 july 2016.\\n \"the biggest french banks by total assets\". banks around the world.\\n \"gagner du temps avec le chatbot bancaire pour gagner en intelligence avec les conseillers\". marketing client. 19 june 2018.\\n marous, jim (14 march 2018). \"meet 11 of the most interesting chatbots in banking\". the financial brand.\\n \"chatbots: boon or bane?\". bluelupin. 9 january 2018.\\n larson, selena (11 october 2016). \"baidu is bringing ai chatbots to healthcare\". cnn money.\\n \"ai chatbots have a future in healthcare, with caveats\". ai in healthcare.\\n palanica, adam; flaschner, peter; thommandram, anirudh; li, michael; fossat, yan (3 january 2019). \"physicians\\' perceptions of chatbots in health care: cross-sectional web-based survey\". journal of medical internet research. 21 (4): e12887. doi:10.2196/12887. pmc 6473203. pmid 30950796.\\n ahaskar, abhijit (27 march 2020). \"how whatsapp chatbots are helping in the fight against covid-19\". mint. retrieved 23 july 2020.\\n \"india\\'s coronavirus chatbot on whatsapp crosses 1.7 crore users in 10 days\". ndtv gadgets 360. retrieved 23 july 2020.\\n kurup, rajesh (21 march 2020). \"covid-19: govt of india launches a whatsapp chatbot\". business line. retrieved 23 july 2020.\\n \"in focus: mumbai-based haptik which developed india\\'s official whatsapp chatbot for covid-19\". hindustan times. 7 april 2020. retrieved 23 july 2020.\\n nadarzynski, tom; miles, oliver; cowie, aimee; ridge, damien (1 january 2019). \"acceptability of artificial intelligence (ai)-led chatbot services in healthcare: a mixed-methods study\". digital health. 5: 2055207619871808. doi:10.1177/2055207619871808. pmc 6704417. pmid 31467682.\\n \"sam, the virtual politician\". tuia innovation.\\n wellington, victoria university of (15 december 2017). \"meet the world\\'s first virtual politician\". victoria university of wellington.\\n wagner, meg (23 november 2017). \"this virtual politician wants to run for office\". cnn.\\n \"talk with the first-ever robot politician on facebook messenger\". engadget. 25 november 2017.\\n prakash, abishur (8 august 2018). \"ai-politicians: a revolution in politics\". medium.\\n sam website\\n sternberg, sarah (20 june 2022). \"danskere vil ind pã¥ den politiske scene med kunstig intelligens\" [danes want to enter the political scene with artificial intelligence]. jyllands-posten. retrieved 20 june 2022.\\n diwakar, amar (22 august 2022). \"can an ai-led danish party usher in an age of algorithmic politics?\". trt world. retrieved 22 august 2022.\\n xiang, chloe (13 october 2022). \"this danish political party is led by an ai\". vice: motherboard. retrieved 13 october 2022.\\n hearing, alice (14 october 2022). \"a.i. chatbot is leading a danish political party and setting its policies. now users are grilling it for its stance on political landmines\". fortune.\\n \"maharashtra government launches aaple sarkar chatbot to provide info on 1,400 public services\". cnbc tv18. 5 march 2019. retrieved 23 july 2020.\\n \"government of maharashtra launches aaple sarkar chatbot with haptik\". the economic times. retrieved 23 july 2020.\\n aggarwal, varun (5 march 2019). \"maharashtra launches aaple sarkar chatbot\". business line. retrieved 23 july 2020.\\n amy (23 february 2015). \"conversational toys â€“ the latest trend in speech technology\". virtual agent chat. archived from the original on 21 february 2018. retrieved 11 august 2016.\\n nagy, evie (13 february 2015). \"using toy-talk technology, new hello barbie will have real conversations with kids\". fast company. retrieved 18 march 2015.\\n oren jacob, the co-founder and ceo of toytalk interviewed on the tv show triangulation on the twit.tv network\\n \"artificial intelligence script tool\".\\n takahashi, dean (23 february 2015). \"elemental\\'s smart connected toy taps ibm\\'s watson supercomputer for its brains\". venture beat. retrieved 15 may 2015.\\n epstein, robert (october 2007). \"from russia with love: how i got fooled (and somewhat humiliated) by a computer\" (pdf). scientific american: mind. pp. 16â€“17. retrieved 9 december 2007. psychologist robert epstein reports how he was initially fooled by a chatterbot posing as an attractive girl in a personal ad he answered on a dating website. in the ad, the girl portrayed herself as being in southern california and then soon revealed, in poor english, that she was actually in russia. he became suspicious after a couple of months of email exchanges, sent her an email test of gibberish, and she still replied in general terms. the dating website is not named.\\n bird, jordan j.; ekart, aniko; faria, diego r. (june 2018). learning from interaction: an intelligent networked-based human-bot and bot-bot chatbot system in: advances in computational intelligence systems (1st ed.). nottingham, uk: springer. pp. 179â€“190. doi:10.1007/978-3-319-97982-3_15. isbn 978-3-319-97982-3. s2cid 52069140.\\n temming, maria (20 november 2018). \"how twitter bots get people to spread fake news\". science news. retrieved 20 november 2018.\\n epp, len (11 may 2016). \"five potential malicious uses for chatbots\".\\n marous, jim (14 march 2018). \"meet 11 of the most interesting chatbots in banking\". the financial brand.\\n grudin, jonathan; jacques, richard (2019), \"chatbots, humbots, and the quest for artificial general intelligence\", proceedings of the 2019 chi conference on human factors in computing systems â€“ chi \\'19, acm chi 2020, pp. 209â€“219, doi:10.1145/3290605.3300439, isbn 978-1-4503-5970-2, s2cid 140274744\\n \"how talking machines are taking call center jobs\". bbc news. 23 august 2018.\\n \"how chatbots are killing jobs (and creating new ones)\". 18 june 2017.\\nfurther reading\\nsearle, john (1980), \"minds, brains and programs\", behavioral and brain sciences, 3 (3): 417â€“457, doi:10.1017/s0140525x00005756, s2cid 55303721\\nshevat, amir (2017). designing bots: creating conversational experiences (first ed.). sebastopol, ca: o\\'reilly media. isbn 978-1-4919-7482-7. oclc 962125282.\\nexternal links\\n media related to chatbots at wikimedia commons\\n conversational bots at wikibooks\\nvte\\nnatural language processing\\nportal:\\nicon language\\nauthority control: national libraries edit this at wikidata\\t\\ngermanyczech republic\\ncategories: chatbotsinstant messaginginteractive narrativenatural language parsing\\nthis page was last edited on 24 february 2023, at 06:09 (utc).\\ntext is available under the creative commons attribution-sharealike license 3.0; additional terms may apply. by using this site, you agree to the terms of use and privacy policy. wikipediaâ® is a registered trademark of the wikimedia foundation, inc., a non-profit organization.\\nprivacy policyabout wikipediadisclaimerscontact wikipediamobile viewdevelopersstatisticscookie statementwikimedia foundationpowered by mediawiki'"
      ]
     },
     "execution_count": 7,
     "metadata": {},
     "output_type": "execute_result"
    }
   ],
   "source": [
    "raw_doc"
   ]
  },
  {
   "cell_type": "code",
   "execution_count": 8,
   "id": "2033a7ac",
   "metadata": {},
   "outputs": [],
   "source": [
    "sentence_tokens = nltk.sent_tokenize(raw_doc)\n",
    "word_tokens = nltk.word_tokenize(raw_doc)"
   ]
  },
  {
   "cell_type": "markdown",
   "id": "82244880",
   "metadata": {},
   "source": [
    "#### After Tokenizations"
   ]
  },
  {
   "cell_type": "code",
   "execution_count": 9,
   "id": "1cabfc2d",
   "metadata": {},
   "outputs": [
    {
     "data": {
      "text/plain": [
       "['jump to content\\ntoggle sidebar\\n\\nwikipediathe free encyclopedia\\nsearch wikipedia\\ncreate account\\nlog in\\n\\npersonal tools\\nphotograph your local culture, help wikipedia and win!hide\\ncontents hide\\n(top)\\nbackground\\ndevelopment\\napplication\\ntoggle application subsection\\nmessaging apps\\nas part of company apps and websites\\nchatbot sequences\\ncompany internal platforms\\ncustomer service\\nhealthcare\\npolitics\\ntoys\\nmalicious use\\nlimitations of chatbots\\nchatbots and jobs\\nsee also\\nreferences\\nfurther reading\\nexternal links\\nchatbot\\n\\narticle\\ntalk\\nread\\nview source\\nview history\\npage semi-protected\\nfrom wikipedia, the free encyclopedia\\nfor other uses, see chatbot (disambiguation).',\n",
       " 'parts of this article (those related to everything) need to be updated.',\n",
       " 'the reason given is: this article is using citations from 1970 and virtually all claims about conversational capabilities are at least ten years out of date (for example the turing test was arguably made obsolete years ago by transformer models).',\n",
       " 'please help update this article to reflect recent events or newly available information.',\n",
       " '(february 2023)\\n\\na virtual assistant chatbot\\n\\nthe 1966 eliza chatbot\\na chatbot or chatterbot is a software application used to conduct an online chat conversation via text or text-to-speech, in lieu of providing direct contact with a live human agent.']"
      ]
     },
     "execution_count": 9,
     "metadata": {},
     "output_type": "execute_result"
    }
   ],
   "source": [
    "#sentence_tokens[2]\n",
    "sentence_tokens[:5] # printing 5 sentences"
   ]
  },
  {
   "cell_type": "code",
   "execution_count": 10,
   "id": "f67c6934",
   "metadata": {},
   "outputs": [
    {
     "data": {
      "text/plain": [
       "'content'"
      ]
     },
     "execution_count": 10,
     "metadata": {},
     "output_type": "execute_result"
    }
   ],
   "source": [
    "word_tokens[2]"
   ]
  },
  {
   "cell_type": "markdown",
   "id": "472ab0e9",
   "metadata": {},
   "source": [
    "#### Performing text-Preprocessing steps"
   ]
  },
  {
   "cell_type": "code",
   "execution_count": 11,
   "id": "729eb028",
   "metadata": {},
   "outputs": [],
   "source": [
    "lemmer = nltk.stem.WordNetLemmatizer()\n",
    "def LemTokens(tokens):\n",
    "    return [lemmer.lemmatize(token) for token in tokens]\n",
    "remove_punct_dict = dict((ord(punct), None) for punct in string.punctuation)\n",
    "\n",
    "def LemNormalize(text):\n",
    "    return LemTokens(nltk.word_tokenize(text.lower().translate(remove_punct_dict)))"
   ]
  },
  {
   "cell_type": "markdown",
   "id": "21f88c2b",
   "metadata": {},
   "source": [
    "#### Define Greeting Functions"
   ]
  },
  {
   "cell_type": "code",
   "execution_count": 12,
   "id": "9cbffe98",
   "metadata": {},
   "outputs": [],
   "source": [
    "greet_inputs = ('hello', 'hi', 'whassup', 'how are you?')\n",
    "greet_responses = ('hi', 'Hey', 'Hey there!', 'There There!')\n",
    "def greet(sentence):\n",
    "    for word in sentence.split():\n",
    "        if word.lower() in greet_inputs:\n",
    "            return random.choice(greet_responses)"
   ]
  },
  {
   "cell_type": "markdown",
   "id": "8a2837c9",
   "metadata": {},
   "source": [
    "#### Response generation by the bot"
   ]
  },
  {
   "cell_type": "code",
   "execution_count": 13,
   "id": "f0fc42ae",
   "metadata": {},
   "outputs": [],
   "source": [
    "from sklearn.feature_extraction.text import TfidfVectorizer\n",
    "from sklearn.metrics.pairwise import cosine_similarity"
   ]
  },
  {
   "cell_type": "code",
   "execution_count": 14,
   "id": "f4fc7390",
   "metadata": {},
   "outputs": [],
   "source": [
    "def response(user_response):\n",
    "    robo1_response = ''\n",
    "    TfidfVec = TfidfVectorizer(tokenizer=LemNormalize, stop_words='english')\n",
    "    tfidf = TfidfVec.fit_transform(sentence_tokens)\n",
    "    vals = cosine_similarity(tfidf[-1],tfidf)\n",
    "    idx = vals.argsort()[0][-2]\n",
    "    flat = vals.flatten()\n",
    "    flat.sort()\n",
    "    req_tfidf = flat[-2]\n",
    "    if(req_tfidf == 0):\n",
    "        robo1_response = robo1_response + \"I am sorry. Unable to understand you!\"\n",
    "        return robo1_response\n",
    "    else:\n",
    "        robo1_response = robo1_response + sentence_tokens[idx]\n",
    "        return robo1_response"
   ]
  },
  {
   "cell_type": "markdown",
   "id": "b6c8c726",
   "metadata": {},
   "source": [
    "#### Defining the chatflow"
   ]
  },
  {
   "cell_type": "code",
   "execution_count": 16,
   "id": "93fca001",
   "metadata": {},
   "outputs": [
    {
     "name": "stdout",
     "output_type": "stream",
     "text": [
      "Hello! I am the retreival learning bot. Start typing your text after greeting to talk to me. For ending convo type bye!\n",
      "Hi\n",
      "Bot Hey\n",
      "How are you\n",
      "Bot: I am sorry. Unable to understand you!\n",
      "Tell me about Bots\n",
      "Bot: by responding to any input that contains the word 'mother' with 'tell me more about your family').\n",
      "Tell me more\n",
      "Bot: by responding to any input that contains the word 'mother' with 'tell me more about your family').\n",
      "Turing Test\n",
      "Bot: chatbot competitions focus on the turing test or more specific goals.\n",
      "How about Data\n",
      "Bot: [76]\n",
      "chatbots require a large amount of conversational data to train.\n",
      "Thank you \n",
      "Bot: I am sorry. Unable to understand you!\n",
      "Bye\n",
      "Bot: GoodBye!\n"
     ]
    }
   ],
   "source": [
    "flag = True\n",
    "print('Hello! I am the retreival learning bot. Start typing your text after greeting to talk to me. For ending convo type bye!')\n",
    "while(flag == True):\n",
    "    user_response = input()\n",
    "    user_response = user_response.lower()\n",
    "    if(user_response != 'bye'):\n",
    "        if(user_response == 'thank you' or user_response == 'thanks'):\n",
    "            flag = False\n",
    "            print('Bot: You are Welcome..')\n",
    "        else:\n",
    "            if(greet(user_response)!=None):\n",
    "                print('Bot '+greet(user_response))\n",
    "            else:\n",
    "                sentence_tokens.append(user_response)\n",
    "                word_tokens = word_tokens + nltk.word_tokenize(user_response)\n",
    "                final_words = list(set(word_tokens))\n",
    "                print('Bot: ', end='')\n",
    "                print(response(user_response))\n",
    "                sentence_tokens.remove(user_response)\n",
    "    else:\n",
    "        flag = False\n",
    "        print('Bot: GoodBye!')"
   ]
  },
  {
   "cell_type": "code",
   "execution_count": null,
   "id": "2e255090",
   "metadata": {},
   "outputs": [],
   "source": []
  }
 ],
 "metadata": {
  "kernelspec": {
   "display_name": "Python 3 (ipykernel)",
   "language": "python",
   "name": "python3"
  },
  "language_info": {
   "codemirror_mode": {
    "name": "ipython",
    "version": 3
   },
   "file_extension": ".py",
   "mimetype": "text/x-python",
   "name": "python",
   "nbconvert_exporter": "python",
   "pygments_lexer": "ipython3",
   "version": "3.9.7"
  }
 },
 "nbformat": 4,
 "nbformat_minor": 5
}
